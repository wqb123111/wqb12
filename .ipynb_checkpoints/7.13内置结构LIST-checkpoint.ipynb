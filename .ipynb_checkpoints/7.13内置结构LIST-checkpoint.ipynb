{
 "cells": [
  {
   "cell_type": "markdown",
   "metadata": {},
   "source": [
    "# 传值和传地址的区别\n",
    "# 关于列表的函数\n",
    " 1.append(在末尾追加)\n",
    " 2.insert(在指定位置插入）\n",
    " 3.del，pop\n",
    " 4.remove（删除指定的元素）\n",
    " 5.clear（清空）\n",
    " 6.reverse翻转\n",
    " 7.count(查找列表中指定元素的个数）\n",
    " 8.深拷贝和潜拷贝\n",
    "# 元祖"
   ]
  },
  {
   "cell_type": "code",
   "execution_count": 4,
   "metadata": {},
   "outputs": [
    {
     "name": "stdout",
     "output_type": "stream",
     "text": [
      "[2, 5, 8, 7, 98]\n",
      "[2, 5, 8, 200, 98]\n",
      "[2, 5, 8, 200, 98]\n",
      "50\n",
      "51\n",
      "50\n"
     ]
    }
   ],
   "source": [
    "#传值和传地址:复杂的数据传地址(同一份内容），简单的传值\n",
    "def func1(l):\n",
    "    l[3] = 200\n",
    "    print(l)\n",
    "    return None\n",
    "def func2(k):\n",
    "    k += 1\n",
    "    print(k)\n",
    "    return None\n",
    "l=[2,5,8,7,98]\n",
    "print(l)\n",
    "func1(l)\n",
    "print(l)\n",
    "\n",
    "k = 50\n",
    "print(k)\n",
    "func2(k)\n",
    "print(k)"
   ]
  },
  {
   "cell_type": "code",
   "execution_count": 6,
   "metadata": {},
   "outputs": [
    {
     "name": "stdout",
     "output_type": "stream",
     "text": [
      "[2, 5, 8, 7, 98, 3]\n"
     ]
    }
   ],
   "source": [
    "#append\n",
    "l=[2,5,8,7,98]\n",
    "l.append(3)\n",
    "print(l)"
   ]
  },
  {
   "cell_type": "code",
   "execution_count": 8,
   "metadata": {},
   "outputs": [
    {
     "name": "stdout",
     "output_type": "stream",
     "text": [
      "[2, 5, 8, 78, 78, 7, 98, 3]\n"
     ]
    }
   ],
   "source": [
    "#insert\n",
    "l.insert(3,78)\n",
    "print(l)"
   ]
  },
  {
   "cell_type": "code",
   "execution_count": 12,
   "metadata": {},
   "outputs": [
    {
     "name": "stdout",
     "output_type": "stream",
     "text": [
      "98\n"
     ]
    }
   ],
   "source": [
    "#pop\n",
    "l = [2,5,8,7,98]\n",
    "k = l.pop()\n",
    "print(k)"
   ]
  },
  {
   "cell_type": "code",
   "execution_count": 14,
   "metadata": {},
   "outputs": [
    {
     "name": "stdout",
     "output_type": "stream",
     "text": [
      "[]\n"
     ]
    }
   ],
   "source": [
    "#clear\n",
    "l = [2,5,8,7,98]\n",
    "l.clear()\n",
    "print(l)"
   ]
  },
  {
   "cell_type": "code",
   "execution_count": 16,
   "metadata": {},
   "outputs": [
    {
     "name": "stdout",
     "output_type": "stream",
     "text": [
      "[2, 8, 7, 98]\n"
     ]
    }
   ],
   "source": [
    "#remove()\n",
    "l = [2,5,8,7,98]\n",
    "l.remove(5)\n",
    "print(l)"
   ]
  },
  {
   "cell_type": "code",
   "execution_count": 19,
   "metadata": {},
   "outputs": [
    {
     "name": "stdout",
     "output_type": "stream",
     "text": [
      "[98, 7, 8, 5, 2]\n"
     ]
    }
   ],
   "source": [
    "#reverse\n",
    "l = [2,5,8,7,98]\n",
    "l.reverse()\n",
    "print(l)"
   ]
  },
  {
   "cell_type": "code",
   "execution_count": 21,
   "metadata": {},
   "outputs": [
    {
     "data": {
      "text/plain": [
       "4"
      ]
     },
     "execution_count": 21,
     "metadata": {},
     "output_type": "execute_result"
    }
   ],
   "source": [
    "#count\n",
    "l = [2,5,8,7,98,5,5,5]\n",
    "l.count(5)"
   ]
  },
  {
   "cell_type": "code",
   "execution_count": 24,
   "metadata": {},
   "outputs": [
    {
     "name": "stdout",
     "output_type": "stream",
     "text": [
      "140082054164744\n",
      "140082054165384\n"
     ]
    }
   ],
   "source": [
    "#COPY\n",
    "l = [2,5,8,7,98]\n",
    "k = l.copy()\n",
    "print(id(l))\n",
    "print(id(k))"
   ]
  },
  {
   "cell_type": "code",
   "execution_count": 31,
   "metadata": {},
   "outputs": [
    {
     "name": "stdout",
     "output_type": "stream",
     "text": [
      "140082113837640\n",
      "140082045615624\n",
      "[2, 5, 8, 7, 98, [1, 3]]\n",
      "[2, 5, 8, 7, 98, [1, 3]]\n"
     ]
    }
   ],
   "source": [
    "#浅拷贝(嵌套中的二层列表用的是传地址操作)\n",
    "l = [2,5,8,7,98,[2,3]]\n",
    "k = l.copy()\n",
    "print(id(l))\n",
    "print(id(k))\n",
    "l[5][0] = 1\n",
    "print(l)\n",
    "print(k)\n"
   ]
  },
  {
   "cell_type": "markdown",
   "metadata": {},
   "source": [
    "# 元祖的内容不能修改，其他和列表一样"
   ]
  }
 ],
 "metadata": {
  "kernelspec": {
   "display_name": "Python 3",
   "language": "python",
   "name": "python3"
  },
  "language_info": {
   "codemirror_mode": {
    "name": "ipython",
    "version": 3
   },
   "file_extension": ".py",
   "mimetype": "text/x-python",
   "name": "python",
   "nbconvert_exporter": "python",
   "pygments_lexer": "ipython3",
   "version": "3.6.3"
  }
 },
 "nbformat": 4,
 "nbformat_minor": 2
}
