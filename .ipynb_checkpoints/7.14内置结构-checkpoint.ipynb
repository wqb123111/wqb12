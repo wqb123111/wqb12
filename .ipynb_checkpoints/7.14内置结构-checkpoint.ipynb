{
 "cells": [
  {
   "cell_type": "markdown",
   "metadata": {},
   "source": [
    "# 关于元祖的函数\n",
    " 1.len\n",
    " 2.max min\n",
    " 3.用tuple转化或者创建元祖\n",
    " 4.count\n",
    " 5.index\n",
    " 6.元祖变量交换法\n",
    "# 集合set\n",
    " 1.集合的定义和创建\n",
    " 2.集合的特征\n",
    " 3.集合的成员检测\n",
    " 4.集合的遍历及带有元祖的集合遍历\n",
    " 5.集合的内涵（普通，带条件，双层）\n",
    " 6.关于集合的函数（len,min,max,set,add,clear,copy,remove,discard,pop,)\n",
    " 7.集合函数intersection(交集),difference(差集），union(全集），issubset(检查一个元素是否为一个元素的子集），issupperset(检查一个元素是否为一个元素的超集）\n",
    " 8.forzenset（不可修改的集合）\n",
    " # 字典\n",
    " 1.字典的创建\n",
    " 2.特征：无序，有键值对应，不可进行分片和索引\n",
    " 3.访问和成员检测\n",
    " 4.len,max,min,clear,iteams,keys,values\n",
    " 5.get(根据指定键返回指定的值）\n",
    " 6.fromkeys使用一个值作为作为所有键位的值"
   ]
  },
  {
   "cell_type": "code",
   "execution_count": 8,
   "metadata": {},
   "outputs": [
    {
     "name": "stdout",
     "output_type": "stream",
     "text": [
      "6\n",
      "8\n",
      "1\n",
      "1\n",
      "2\n"
     ]
    }
   ],
   "source": [
    "#len,max,min.......\n",
    "t = (1,5,7,6,8,4)\n",
    "print(len(t))\n",
    "print(max(t))\n",
    "print(min(t))\n",
    "print(t.count(1))\n",
    "print(t.index(7))\n"
   ]
  },
  {
   "cell_type": "code",
   "execution_count": 9,
   "metadata": {},
   "outputs": [
    {
     "name": "stdout",
     "output_type": "stream",
     "text": [
      "(1, 8, 9, 8, 7)\n"
     ]
    }
   ],
   "source": [
    "l = [1,8,9,8,7]\n",
    "t = tuple(l)\n",
    "print(t)"
   ]
  },
  {
   "cell_type": "code",
   "execution_count": 12,
   "metadata": {},
   "outputs": [
    {
     "name": "stdout",
     "output_type": "stream",
     "text": [
      "{1, 5, 6, 8, 9}\n",
      "{1, 5, 6, 8, 9}\n"
     ]
    }
   ],
   "source": [
    "#集合是无序的，里面的数值是唯一的\n",
    "j = {1,8,9,5,8,6}\n",
    "print(j)\n",
    "print(set(j))"
   ]
  },
  {
   "cell_type": "code",
   "execution_count": 14,
   "metadata": {},
   "outputs": [
    {
     "name": "stdout",
     "output_type": "stream",
     "text": [
      "没有\n"
     ]
    }
   ],
   "source": [
    "#成员的资格判断\n",
    "j = {1, 5, 6, 8, 9}\n",
    "if 8 in j:\n",
    "    print(\"没有\")"
   ]
  },
  {
   "cell_type": "code",
   "execution_count": 16,
   "metadata": {},
   "outputs": [
    {
     "name": "stdout",
     "output_type": "stream",
     "text": [
      "1\n",
      "5\n",
      "(1, 5, 7, 8)\n",
      "7\n",
      "8\n"
     ]
    }
   ],
   "source": [
    "#集合的遍历以及含有元祖的集合\n",
    "j = {1,5,8,7,(1,5,7,8)}\n",
    "for k in j:\n",
    "    print(k)"
   ]
  },
  {
   "cell_type": "code",
   "execution_count": 31,
   "metadata": {},
   "outputs": [
    {
     "name": "stdout",
     "output_type": "stream",
     "text": [
      "<class 'dict'>\n",
      "dict_keys(['one', 'two', 'three'])\n",
      "{'two': 2, 'three': 3}\n"
     ]
    }
   ],
   "source": [
    "#字典的创建\n",
    "d = {\"one\":1,\"two\":2,\"three\":3}\n",
    "print(type(d))\n",
    "print(d.keys())\n",
    "del d[\"one\"]\n",
    "print(d)"
   ]
  }
 ],
 "metadata": {
  "kernelspec": {
   "display_name": "Python 3",
   "language": "python",
   "name": "python3"
  },
  "language_info": {
   "codemirror_mode": {
    "name": "ipython",
    "version": 3
   },
   "file_extension": ".py",
   "mimetype": "text/x-python",
   "name": "python",
   "nbconvert_exporter": "python",
   "pygments_lexer": "ipython3",
   "version": "3.6.3"
  }
 },
 "nbformat": 4,
 "nbformat_minor": 2
}
