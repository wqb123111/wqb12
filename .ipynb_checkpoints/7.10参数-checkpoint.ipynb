{
 "cells": [
  {
   "cell_type": "markdown",
   "metadata": {},
   "source": [
    "）1参数的类型：\n",
    "   1.普通参数\n",
    "   2.默认参数\n",
    "   3.关键词参数\n",
    "   4.收集参数\n",
    "）2.关键词参数之收集参数\n",
    "）3.混搭"
   ]
  },
  {
   "cell_type": "code",
   "execution_count": 16,
   "metadata": {},
   "outputs": [
    {
     "name": "stdout",
     "output_type": "stream",
     "text": [
      "我的姓名是wangqibei，他的年龄是18,我的爱好没有\n"
     ]
    }
   ],
   "source": [
    "#做一个简单的自我介绍吧\n",
    "#默认参数\n",
    "def ziwojieshao1(name,age,hobby = \"没有\") :\n",
    "                 if hobby == \"没有\":\n",
    "                     print(\"我的姓名是{0}，他的年龄是{1},我的爱好{2}\".format(name,age,hobby))\n",
    "                 else :\n",
    "                     print(\"我的姓名是{0}，我的年龄是{1},我的爱好{2}\".format(name,age,hobby))\n",
    "\n",
    "ziwojieshao1(\"wangqibei\",18)"
   ]
  },
  {
   "cell_type": "code",
   "execution_count": 27,
   "metadata": {},
   "outputs": [
    {
     "name": "stdout",
     "output_type": "stream",
     "text": [
      "我的姓名是wangqibei，年龄是18，我的爱好是游戏.\n"
     ]
    }
   ],
   "source": [
    "#关键词参数\n",
    "def ziwojieshao2(name=\"n\",age=\"a\",hobby=\"h\"):\n",
    "    print(\"我的姓名是{0}，年龄是{1}，我的爱好是{2}.\".format(name,age,hobby))\n",
    "\n",
    "n = \"wangqibei\"\n",
    "h = \"游戏\"\n",
    "a = 18\n",
    "ziwojieshao2(age=a,name=n,hobby=h)\n"
   ]
  },
  {
   "cell_type": "code",
   "execution_count": 40,
   "metadata": {},
   "outputs": [
    {
     "name": "stdout",
     "output_type": "stream",
     "text": [
      "这是我的自我介绍，下面我简单说两句：\n",
      "<class 'tuple'>\n",
      "wangqibei\n",
      "东台\n",
      "英雄联盟\n",
      "********************\n"
     ]
    }
   ],
   "source": [
    "#收集参数\n",
    "def ziwojieshao3( *args):\n",
    "    print(\"这是我的自我介绍，下面我简单说两句：\")\n",
    "    print(type(args))\n",
    "    for item in args :\n",
    "        print(item)\n",
    "    print(\"*\" * 20)\n",
    "ziwojieshao3(\"wangqibei\",\"东台\",\"英雄联盟\")\n"
   ]
  },
  {
   "cell_type": "code",
   "execution_count": 56,
   "metadata": {},
   "outputs": [
    {
     "name": "stdout",
     "output_type": "stream",
     "text": [
      "下面我简单说两句：\n",
      "<class 'dict'>\n",
      "n *** wanqiqbei\n",
      "a *** 20\n",
      "h *** lol\n",
      "********************\n"
     ]
    }
   ],
   "source": [
    "#关键词参数之收集参数\n",
    "def ziwojieshao4( **kwargs):\n",
    "    print(\"下面我简单说两句：\")\n",
    "    print(type(kwargs))\n",
    "    for k,c   in kwargs.items():\n",
    "        print(k,\"***\",c)\n",
    "    print(\"*\" * 20)\n",
    "\n",
    "\n",
    "\n",
    "ziwojieshao4(n = \"wanqiqbei\",a = 20,h = \"lol\")"
   ]
  }
 ],
 "metadata": {
  "kernelspec": {
   "display_name": "Python 3",
   "language": "python",
   "name": "python3"
  },
  "language_info": {
   "codemirror_mode": {
    "name": "ipython",
    "version": 3
   },
   "file_extension": ".py",
   "mimetype": "text/x-python",
   "name": "python",
   "nbconvert_exporter": "python",
   "pygments_lexer": "ipython3",
   "version": "3.6.3"
  }
 },
 "nbformat": 4,
 "nbformat_minor": 2
}
