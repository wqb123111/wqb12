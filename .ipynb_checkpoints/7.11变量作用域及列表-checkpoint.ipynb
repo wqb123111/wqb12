{
 "cells": [
  {
   "cell_type": "markdown",
   "metadata": {},
   "source": [
    "-Global 全局变量\n",
    "-Local 局部变量"
   ]
  },
  {
   "cell_type": "markdown",
   "metadata": {},
   "source": [
    "eval()函数：把一段字符串给执行出来，并返回值\n",
    "exec()函数：把一段字符串给执行出来，不返回值"
   ]
  },
  {
   "cell_type": "markdown",
   "metadata": {},
   "source": [
    "递归 -斐波那契数列"
   ]
  },
  {
   "cell_type": "markdown",
   "metadata": {},
   "source": [
    "数据结构-列表"
   ]
  },
  {
   "cell_type": "code",
   "execution_count": 5,
   "metadata": {},
   "outputs": [
    {
     "name": "stdout",
     "output_type": "stream",
     "text": [
      "400\n",
      "200\n"
     ]
    }
   ],
   "source": [
    "#把局部变量声明为全局变量\n",
    "\n",
    "x = 100\n",
    "\n",
    "def func(b):\n",
    "    global a\n",
    "    a = 200\n",
    "    print(a+b+x)\n",
    "\n",
    "func(100)\n",
    "print(a)\n"
   ]
  },
  {
   "cell_type": "code",
   "execution_count": 34,
   "metadata": {},
   "outputs": [
    {
     "name": "stdout",
     "output_type": "stream",
     "text": [
      "300\n"
     ]
    }
   ],
   "source": [
    "#eval函数的执行\n",
    "x = 100\n",
    "y = 200\n",
    "z = eval(\"x+y\")\n",
    "print(z)"
   ]
  },
  {
   "cell_type": "code",
   "execution_count": 36,
   "metadata": {},
   "outputs": [
    {
     "name": "stdout",
     "output_type": "stream",
     "text": [
      "None\n"
     ]
    }
   ],
   "source": [
    "#exec函数的执行\n",
    "x = 100\n",
    "y = 200\n",
    "z =exec(\"x+y\")\n",
    "print(z)\n"
   ]
  },
  {
   "cell_type": "code",
   "execution_count": 38,
   "metadata": {},
   "outputs": [
    {
     "name": "stdout",
     "output_type": "stream",
     "text": [
      "x+y;as\n"
     ]
    }
   ],
   "source": [
    "#ecec函数不返回值，但是执行\n",
    "z = exec(\"print('x+y;as')\")"
   ]
  },
  {
   "cell_type": "code",
   "execution_count": 55,
   "metadata": {},
   "outputs": [
    {
     "data": {
      "text/plain": [
       "21"
      ]
     },
     "execution_count": 55,
     "metadata": {},
     "output_type": "execute_result"
    }
   ],
   "source": [
    "#斐波那契数列\n",
    "def func(n):\n",
    "    global z\n",
    "    if n==1 :\n",
    "        return 1\n",
    "    if n==2 :\n",
    "        return 1\n",
    "    z = func(n-1)+func(n-2)\n",
    "    return z\n",
    "func(8)"
   ]
  },
  {
   "cell_type": "markdown",
   "metadata": {},
   "source": [
    "#列表的创建\n",
    "#分片取(从左到右的索引从0开始，从右到左的索引从-1开始）\n",
    "#增幅分片取\n",
    "#逆向分片取（如果保持从右边到左边，还需加一个：-1）\n",
    "#分片出去的数据与原来列表的数据用的是不同的地址\n",
    "\n"
   ]
  },
  {
   "cell_type": "code",
   "execution_count": 58,
   "metadata": {},
   "outputs": [
    {
     "name": "stdout",
     "output_type": "stream",
     "text": [
      "[1, 21, 54, 7, 45, 8]\n"
     ]
    }
   ],
   "source": [
    "#列表的创建\n",
    "l = [1,21,54,7,45,8]\n",
    "print(l)"
   ]
  },
  {
   "cell_type": "code",
   "execution_count": 62,
   "metadata": {},
   "outputs": [
    {
     "name": "stdout",
     "output_type": "stream",
     "text": [
      "[1, 21, 54]\n"
     ]
    }
   ],
   "source": [
    "#列表的分片取出\n",
    "print(l[0:3])"
   ]
  },
  {
   "cell_type": "code",
   "execution_count": 64,
   "metadata": {},
   "outputs": [
    {
     "name": "stdout",
     "output_type": "stream",
     "text": [
      "[1, 54, 45]\n"
     ]
    }
   ],
   "source": [
    "#增幅取片段\n",
    "#如果第一个分号左右两边不写，默认从索引0一直到列表最后一位数字截止\n",
    "print(l[::2])"
   ]
  },
  {
   "cell_type": "code",
   "execution_count": 75,
   "metadata": {},
   "outputs": [
    {
     "name": "stdout",
     "output_type": "stream",
     "text": [
      "[]\n",
      "[8, 45]\n",
      "[8, 7, 21]\n"
     ]
    }
   ],
   "source": [
    "#逆向分片取出列表中的数字\n",
    "print(l[-1:-3])\n",
    "print(l[-1:-3:-1])\n",
    "print(l[-1:-6:-2])"
   ]
  },
  {
   "cell_type": "code",
   "execution_count": 77,
   "metadata": {},
   "outputs": [
    {
     "name": "stdout",
     "output_type": "stream",
     "text": [
      "140044559410056\n",
      "140044559306440\n"
     ]
    }
   ],
   "source": [
    "#用id函数来证明分片出去的数据与原来列表的数据用的是不同的地址\n",
    "l = [1,21,54,7,45,8]\n",
    "print(id(l))\n",
    "print(id(l[:]))"
   ]
  }
 ],
 "metadata": {
  "kernelspec": {
   "display_name": "Python 3",
   "language": "python",
   "name": "python3"
  },
  "language_info": {
   "codemirror_mode": {
    "name": "ipython",
    "version": 3
   },
   "file_extension": ".py",
   "mimetype": "text/x-python",
   "name": "python",
   "nbconvert_exporter": "python",
   "pygments_lexer": "ipython3",
   "version": "3.6.3"
  }
 },
 "nbformat": 4,
 "nbformat_minor": 2
}
