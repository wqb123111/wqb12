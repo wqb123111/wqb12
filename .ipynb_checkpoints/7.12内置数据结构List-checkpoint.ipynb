{
 "cells": [
  {
   "cell_type": "markdown",
   "metadata": {},
   "source": [
    "-汉诺塔问题(递归）\n",
    " 1.有三个架子为A，B，C，需要将A上的盘子移动到C上去\n",
    " 2.遵循的原则是：无论处于哪种状态，小盘子始终处于大盘子的上方"
   ]
  },
  {
   "cell_type": "markdown",
   "metadata": {},
   "source": [
    "-思路（设原来A上的盘子数量为N个）\n",
    " 1.将A上的N-1个盘子借助C移动到B上去\n",
    " 2.将A上最大的一个盘子移动到C上去\n",
    " 3.将B上的N-1个盘子借助A，移动到C上去"
   ]
  },
  {
   "cell_type": "code",
   "execution_count": 56,
   "metadata": {},
   "outputs": [
    {
     "name": "stdout",
     "output_type": "stream",
     "text": [
      "A 到 B\n",
      "A 到 C\n",
      "B 到 C\n",
      "A 到 B\n",
      "A 到 C\n",
      "B 到 C\n",
      "A 到 B\n",
      "C 到 A\n",
      "C 到 B\n",
      "A 到 B\n",
      "C 到 A\n",
      "C 到 B\n",
      "A 到 B\n",
      "A 到 C\n",
      "B 到 C\n",
      "B 到 A\n",
      "C 到 A\n",
      "B 到 C\n",
      "B 到 A\n",
      "C 到 A\n",
      "B 到 C\n",
      "A 到 B\n",
      "A 到 C\n",
      "B 到 C\n",
      "A 到 B\n",
      "A 到 C\n",
      "B 到 C\n"
     ]
    }
   ],
   "source": [
    "def hano(n,a,b,c):\n",
    "    if n==1 :\n",
    "               print(a,\"到\",c)\n",
    "               return None\n",
    " \n",
    "    if n==2 : \n",
    "                print(a,\"到\",b)\n",
    "                print(a,\"到\",c)\n",
    "                print(b,\"到\",c)\n",
    "               \n",
    "               \n",
    "    hano(n-1,a,c,b)\n",
    "    print(a,\"到\",c) \n",
    "    hano(n-1,b,a,c)\n",
    "    return None\n",
    "\n",
    "hano(4,a=\"A\",b=\"B\",c=\"C\")          "
   ]
  },
  {
   "cell_type": "markdown",
   "metadata": {},
   "source": [
    "# 列表\n",
    " -删除\n",
    " -加法\n",
    " -乘法\n",
    " -判断成员资格\n",
    " -遍历"
   ]
  },
  {
   "cell_type": "code",
   "execution_count": 64,
   "metadata": {},
   "outputs": [
    {
     "name": "stdout",
     "output_type": "stream",
     "text": [
      "[1, 2, 5, 6, 7]\n"
     ]
    }
   ],
   "source": [
    "#列表的删除\n",
    "l = [1,2,4,5,6,7]\n",
    "del (l[2])\n",
    "print(l)\n"
   ]
  },
  {
   "cell_type": "code",
   "execution_count": 66,
   "metadata": {},
   "outputs": [
    {
     "name": "stdout",
     "output_type": "stream",
     "text": [
      "[1, 2, 4, 5, 6, 7, 5, 8, 9, 7, 5]\n"
     ]
    }
   ],
   "source": [
    "#列表的加法\n",
    "l = [1,2,4,5,6,7]\n",
    "s = [5,8,9,7,5]\n",
    "v = l + s\n",
    "print(v)"
   ]
  },
  {
   "cell_type": "code",
   "execution_count": 69,
   "metadata": {},
   "outputs": [
    {
     "name": "stdout",
     "output_type": "stream",
     "text": [
      "[5, 8, 9, 7, 5, 5, 8, 9, 7, 5, 5, 8, 9, 7, 5, 5, 8, 9, 7, 5, 5, 8, 9, 7, 5]\n"
     ]
    }
   ],
   "source": [
    "#列表的乘法\n",
    "k = s * 5\n",
    "print(k)"
   ]
  },
  {
   "cell_type": "code",
   "execution_count": 73,
   "metadata": {},
   "outputs": [
    {
     "name": "stdout",
     "output_type": "stream",
     "text": [
      "False\n",
      "True\n",
      "True\n"
     ]
    }
   ],
   "source": [
    "#判断成员资格\n",
    "print(5 not in l)\n",
    "print(8484 not in k)\n",
    "print(5 in l)"
   ]
  },
  {
   "cell_type": "code",
   "execution_count": 78,
   "metadata": {},
   "outputs": [
    {
     "name": "stdout",
     "output_type": "stream",
     "text": [
      "1\n",
      "2\n",
      "4\n",
      "5\n",
      "6\n",
      "7\n"
     ]
    }
   ],
   "source": [
    "#列表的遍历（for）\n",
    "l = [1,2,4,5,6,7]\n",
    "s = [5,8,9,7,5]\n",
    "for i in l:\n",
    "    print(i)"
   ]
  },
  {
   "cell_type": "code",
   "execution_count": 80,
   "metadata": {},
   "outputs": [
    {
     "name": "stdout",
     "output_type": "stream",
     "text": [
      "1\n",
      "2\n",
      "4\n",
      "5\n",
      "6\n",
      "7\n"
     ]
    }
   ],
   "source": [
    "#用while来遍历列表\n",
    "l = [1,2,4,5,6,7]\n",
    "lenth = len(l)\n",
    "indx = 0\n",
    "while indx < lenth :\n",
    "    print(l[indx])\n",
    "    indx +=1"
   ]
  },
  {
   "cell_type": "code",
   "execution_count": 82,
   "metadata": {},
   "outputs": [
    {
     "name": "stdout",
     "output_type": "stream",
     "text": [
      "1 *** a\n",
      "2 *** b\n",
      "3 *** 8\n"
     ]
    }
   ],
   "source": [
    "#双层列表循环\n",
    "l =[[1,\"a\"],[2,\"b\"],[3,8]]\n",
    "for k,v in l:\n",
    "    print(k,\"***\",v)"
   ]
  },
  {
   "cell_type": "markdown",
   "metadata": {},
   "source": [
    "# 列表内涵 list content"
   ]
  },
  {
   "cell_type": "code",
   "execution_count": 84,
   "metadata": {},
   "outputs": [
    {
     "name": "stdout",
     "output_type": "stream",
     "text": [
      "[2, 4, 6, 8]\n"
     ]
    }
   ],
   "source": [
    "#列表的创建\n",
    "l = [i for i in range(1,10)]\n",
    "k = [x for x in l if x % 2 ==0]\n",
    "print(k)"
   ]
  },
  {
   "cell_type": "code",
   "execution_count": 86,
   "metadata": {},
   "outputs": [
    {
     "name": "stdout",
     "output_type": "stream",
     "text": [
      "[10, 20, 40, 50, 60, 70]\n"
     ]
    }
   ],
   "source": [
    "#乘法\n",
    "l = [1,2,4,5,6,7]\n",
    "k = [x * 10 for x in l]\n",
    "print(k)"
   ]
  },
  {
   "cell_type": "markdown",
   "metadata": {},
   "source": [
    "# 关于列表的常用函数"
   ]
  },
  {
   "cell_type": "code",
   "execution_count": 88,
   "metadata": {},
   "outputs": [
    {
     "name": "stdout",
     "output_type": "stream",
     "text": [
      "55\n"
     ]
    }
   ],
   "source": [
    "#len用来查看列表的长度\n",
    "l = [x for x in range(1,56)]\n",
    "print(len(l))"
   ]
  },
  {
   "cell_type": "code",
   "execution_count": 90,
   "metadata": {},
   "outputs": [
    {
     "name": "stdout",
     "output_type": "stream",
     "text": [
      "55\n",
      "1\n"
     ]
    }
   ],
   "source": [
    "#max 和 min 用来查看列表的最大值和最小值\n",
    "print(max(l))\n",
    "print(min(l))"
   ]
  },
  {
   "cell_type": "code",
   "execution_count": 93,
   "metadata": {},
   "outputs": [
    {
     "name": "stdout",
     "output_type": "stream",
     "text": [
      "['a', 'i', ' ', 'j', 'i', 'u', ' ', 'x', 'i', 'a', 'n', 'g', ' ', 'l', 'a', 'n', ' ', 't', 'i', 'a', 'n', ' ', 'b', 'a', 'i', ' ', 'y', 'u', 'n']\n"
     ]
    }
   ],
   "source": [
    "#list函数\n",
    "k = \"ai jiu xiang lan tian bai yun\"\n",
    "print(list(k))"
   ]
  },
  {
   "cell_type": "code",
   "execution_count": 98,
   "metadata": {},
   "outputs": [
    {
     "name": "stdout",
     "output_type": "stream",
     "text": [
      "[1, 2, 3, 4, 5, 6, 7, 8]\n"
     ]
    }
   ],
   "source": [
    "#list可以把内容转化成列表格式\n",
    "print(list(i for i in range(1,9)))"
   ]
  }
 ],
 "metadata": {
  "kernelspec": {
   "display_name": "Python 3",
   "language": "python",
   "name": "python3"
  },
  "language_info": {
   "codemirror_mode": {
    "name": "ipython",
    "version": 3
   },
   "file_extension": ".py",
   "mimetype": "text/x-python",
   "name": "python",
   "nbconvert_exporter": "python",
   "pygments_lexer": "ipython3",
   "version": "3.6.3"
  }
 },
 "nbformat": 4,
 "nbformat_minor": 2
}
