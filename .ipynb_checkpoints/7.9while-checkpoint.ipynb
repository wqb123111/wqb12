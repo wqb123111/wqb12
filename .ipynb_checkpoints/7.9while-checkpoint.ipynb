{
 "cells": [
  {
   "cell_type": "code",
   "execution_count": 10,
   "metadata": {},
   "outputs": [
    {
     "name": "stdout",
     "output_type": "stream",
     "text": [
      "第1年拿了10670.0\n",
      "第2年拿了11384.89\n",
      "第3年拿了12147.677629999998\n",
      "第4年拿了12961.572031209998\n",
      "第5年拿了13829.997357301068\n",
      "第6年拿了14756.607180240238\n",
      "第7年拿了15745.299861316334\n",
      "第8年拿了16800.23495202453\n",
      "第9年拿了17925.85069381017\n",
      "第10年拿了19126.88269029545\n",
      "第11年拿了20408.383830545245\n",
      "wo qu ni nainai\n"
     ]
    }
   ],
   "source": [
    "i = 10000\n",
    "year = 0\n",
    "while i<20000 :\n",
    "    i = i * (1.067)\n",
    "    year+=1\n",
    "    print(\"第{0}年拿了{1}\".format(year,i))\n",
    "else :\n",
    "    print(\"wo qu ni nainai\")\n",
    "    "
   ]
  },
  {
   "cell_type": "code",
   "execution_count": 1,
   "metadata": {},
   "outputs": [
    {
     "name": "stdout",
     "output_type": "stream",
     "text": [
      "1000\n",
      "wo TM jie shu le \n"
     ]
    }
   ],
   "source": [
    "def shazi(i):\n",
    "    i = i * 10\n",
    "    print(i)\n",
    "    return \"wo TM jie shu le \"\n",
    "\n",
    "k = 100\n",
    "rst = shazi(k)\n",
    "print(rst)\n",
    "    "
   ]
  },
  {
   "cell_type": "code",
   "execution_count": 5,
   "metadata": {},
   "outputs": [
    {
     "name": "stdout",
     "output_type": "stream",
     "text": [
      "1 ***************\n",
      "2 4 ***************\n",
      "3 6 9 ***************\n",
      "4 8 12 16 ***************\n",
      "5 10 15 20 25 ***************\n",
      "6 12 18 24 30 36 ***************\n",
      "7 14 21 28 35 42 49 ***************\n",
      "8 16 24 32 40 48 56 64 ***************\n",
      "9 18 27 36 45 54 63 72 81 ***************\n"
     ]
    }
   ],
   "source": [
    "for i in range(1,10) :\n",
    "    for k in range(1,i+1):\n",
    "        print(i * k , end = \" \")\n",
    "    print(\"***************\")\n",
    "    "
   ]
  },
  {
   "cell_type": "code",
   "execution_count": 14,
   "metadata": {},
   "outputs": [
    {
     "name": "stdout",
     "output_type": "stream",
     "text": [
      "1 ***************\n",
      "2 4 ***************\n",
      "3 6 9 ***************\n",
      "4 8 12 16 ***************\n",
      "5 10 15 20 25 ***************\n",
      "6 12 18 24 30 36 ***************\n",
      "7 14 21 28 35 42 49 ***************\n",
      "8 16 24 32 40 48 56 64 ***************\n",
      "9 18 27 36 45 54 63 72 81 ***************\n"
     ]
    }
   ],
   "source": [
    "#用函数来写一个九九乘法表\n",
    "def hanshu99(i) :\n",
    "    for k in range(1,i+1) :\n",
    "        print(k * i,end = \" \")\n",
    "    print(\"***************\")\n",
    "for i in range(1,10):\n",
    "    hanshu99(i)\n",
    "        \n",
    "        "
   ]
  },
  {
   "cell_type": "code",
   "execution_count": null,
   "metadata": {
    "collapsed": true
   },
   "outputs": [],
   "source": []
  }
 ],
 "metadata": {
  "kernelspec": {
   "display_name": "Python 3",
   "language": "python",
   "name": "python3"
  },
  "language_info": {
   "codemirror_mode": {
    "name": "ipython",
    "version": 3
   },
   "file_extension": ".py",
   "mimetype": "text/x-python",
   "name": "python",
   "nbconvert_exporter": "python",
   "pygments_lexer": "ipython3",
   "version": "3.6.3"
  }
 },
 "nbformat": 4,
 "nbformat_minor": 2
}
