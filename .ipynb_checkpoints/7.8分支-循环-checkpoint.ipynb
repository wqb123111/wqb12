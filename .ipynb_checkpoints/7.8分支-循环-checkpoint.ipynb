{
 "cells": [
  {
   "cell_type": "code",
   "execution_count": 8,
   "metadata": {},
   "outputs": [
    {
     "name": "stdout",
     "output_type": "stream",
     "text": [
      "请输入你的性别：nan\n",
      "你输入的性别是nan\n",
      "给我滚\n"
     ]
    }
   ],
   "source": [
    "gender = input(\"请输入你的性别：\")\n",
    "print (\"你输入的性别是{}\".format(gender))\n",
    "if gender==\"nan\":\n",
    "    print(\"给我滚\")\n",
    "else:\n",
    "    print(\"来吧来吧\")"
   ]
  },
  {
   "cell_type": "code",
   "execution_count": 1,
   "metadata": {},
   "outputs": [
    {
     "name": "stdout",
     "output_type": "stream",
     "text": [
      "你输入的成绩为：89\n",
      "你输入的成绩是89\n",
      "B\n"
     ]
    }
   ],
   "source": [
    "grade = input(\"你输入的成绩为：\")\n",
    "grade = int(grade)\n",
    "print(\"你输入的成绩是{}\".format(grade))\n",
    "if grade>=90:\n",
    "    print(\"A\")\n",
    "if grade>=80 and grade<90 :\n",
    "    print(\"B\")\n",
    "if grade>=70 and grade<80 :\n",
    "    print(\"C\")\n",
    "if grade>=60 and grade<70 :\n",
    "    print(\"D\")\n",
    "if grade<60 :\n",
    "    print(\"E\")"
   ]
  },
  {
   "cell_type": "code",
   "execution_count": 3,
   "metadata": {},
   "outputs": [
    {
     "name": "stdout",
     "output_type": "stream",
     "text": [
      "你输入的成绩为：30\n",
      "你输入的成绩是30\n",
      "E\n"
     ]
    }
   ],
   "source": [
    "grade = input(\"你输入的成绩为：\")\n",
    "grade = int(grade)\n",
    "print(\"你输入的成绩是{}\".format(grade))\n",
    "if grade>=90:\n",
    "    print(\"A\")\n",
    "elif grade>=80 :\n",
    "    print(\"B\")\n",
    "elif grade>=70 :\n",
    "    print(\"C\")\n",
    "elif grade>=60 :\n",
    "    print(\"D\")\n",
    "else  :\n",
    "    print(\"E\")"
   ]
  },
  {
   "cell_type": "code",
   "execution_count": 10,
   "metadata": {},
   "outputs": [
    {
     "name": "stdout",
     "output_type": "stream",
     "text": [
      "我不喜欢a\n",
      "我不喜欢b\n",
      "我的最爱就是c\n",
      "我不喜欢d\n",
      "gun\n"
     ]
    }
   ],
   "source": [
    "for name in ['a','b','c','d'] :\n",
    "    if name==\"c\":\n",
    "        print(\"我的最爱就是{0}\".format(name))\n",
    "    else :\n",
    "        print(\"我不喜欢{}\".format(name))\n",
    "else :\n",
    "    print(\"gun\")\n",
    "    "
   ]
  },
  {
   "cell_type": "code",
   "execution_count": 13,
   "metadata": {},
   "outputs": [
    {
     "name": "stdout",
     "output_type": "stream",
     "text": [
      "1\n",
      "2\n",
      "3\n",
      "4\n",
      "5\n",
      "6\n",
      "7\n",
      "8\n",
      "9\n"
     ]
    }
   ],
   "source": [
    "for i in range(1,10):\n",
    "    print(i)\n",
    " "
   ]
  },
  {
   "cell_type": "code",
   "execution_count": 18,
   "metadata": {},
   "outputs": [
    {
     "name": "stdout",
     "output_type": "stream",
     "text": [
      "偶数是:2\n",
      "偶数是:4\n",
      "偶数是:6\n",
      "偶数是:8\n"
     ]
    }
   ],
   "source": [
    "for i in range(1,10):\n",
    "    if i % 2 == 1:\n",
    "        continue\n",
    "    print(\"偶数是:{}\".format(i))"
   ]
  },
  {
   "cell_type": "code",
   "execution_count": 50,
   "metadata": {},
   "outputs": [
    {
     "name": "stdout",
     "output_type": "stream",
     "text": [
      "1\n",
      "2\n",
      "3\n",
      "4\n",
      "5\n",
      "6\n",
      "我找到7了\n"
     ]
    }
   ],
   "source": [
    "for i in range(1,10):\n",
    "    if i==7:\n",
    "        print(\"我找到{}了\".format(i))\n",
    "        break\n",
    "    else :\n",
    "        print(i)\n"
   ]
  },
  {
   "cell_type": "code",
   "execution_count": 53,
   "metadata": {},
   "outputs": [
    {
     "name": "stdout",
     "output_type": "stream",
     "text": [
      "偶数是:2\n",
      "偶数是:4\n",
      "偶数是:6\n",
      "偶数是:8\n"
     ]
    }
   ],
   "source": [
    "for i in range(1,10):\n",
    "    if i % 2 == 0 :\n",
    "        print(\"偶数是:{}\".format(i))\n",
    "   \n",
    "    "
   ]
  }
 ],
 "metadata": {
  "kernelspec": {
   "display_name": "Python 3",
   "language": "python",
   "name": "python3"
  },
  "language_info": {
   "codemirror_mode": {
    "name": "ipython",
    "version": 3
   },
   "file_extension": ".py",
   "mimetype": "text/x-python",
   "name": "python",
   "nbconvert_exporter": "python",
   "pygments_lexer": "ipython3",
   "version": "3.6.3"
  }
 },
 "nbformat": 4,
 "nbformat_minor": 2
}
